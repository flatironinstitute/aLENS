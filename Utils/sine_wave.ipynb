{
 "cells": [
  {
   "cell_type": "code",
   "execution_count": 55,
   "metadata": {},
   "outputs": [],
   "source": [
    "import numpy as np\n",
    "from scipy.optimize import fsolve\n",
    "from scipy.special import ellipeinc\n",
    "import matplotlib.pyplot as plt"
   ]
  },
  {
   "cell_type": "code",
   "execution_count": 21,
   "metadata": {},
   "outputs": [],
   "source": [
    "def amp_constraint(amp, dist, length, n):\n",
    "    k = 2.*np.pi*n/dist\n",
    "    Ak2 = (amp*amp*k*k)\n",
    "    return (np.sqrt(1. + Ak2) * ellipeinc(2.*np.pi*n, Ak2/(1.+Ak2))) - (k*length)\n",
    "\n"
   ]
  },
  {
   "cell_type": "code",
   "execution_count": 61,
   "metadata": {},
   "outputs": [],
   "source": [
    "def next_pos_in_sine(x_pos, prev_pos, amp, dist, n_beads, n):\n",
    "    k = 2.*np.pi*n/dist\n",
    "    # new_arr = np.array( ( \n",
    "    #     1. - ((pos_arr[1] - prev_pos[1])**2) - ((pos_arr[0] - prev_pos[0])**2),\n",
    "    #     pos_arr[1] - (amp*np.sin(k*pos_arr[0]))\n",
    "    # ))\n",
    "    # print(new_arr)\n",
    "    # return new_arr\n",
    "    return 1. - ((amp*np.sin(k*x_pos) - prev_pos[1])**2) - ((x_pos[0] - prev_pos[0])**2)"
   ]
  },
  {
   "cell_type": "code",
   "execution_count": 62,
   "metadata": {},
   "outputs": [
    {
     "data": {
      "text/plain": [
       "array([2.])"
      ]
     },
     "execution_count": 62,
     "metadata": {},
     "output_type": "execute_result"
    }
   ],
   "source": [
    "dist = 0.0001\n",
    "length = 16.\n",
    "n = 2.\n",
    "fsolve(amp_constraint, .5, (dist, length, n))"
   ]
  },
  {
   "cell_type": "code",
   "execution_count": 74,
   "metadata": {},
   "outputs": [
    {
     "name": "stdout",
     "output_type": "stream",
     "text": [
      "[5.53775785]\n"
     ]
    },
    {
     "data": {
      "text/plain": [
       "<matplotlib.collections.PathCollection at 0x10c5b9ff0>"
      ]
     },
     "execution_count": 74,
     "metadata": {},
     "output_type": "execute_result"
    },
    {
     "data": {
      "image/png": "[encoded data removed]",
      "text/plain": [
       "<Figure size 432x288 with 1 Axes>"
      ]
     },
     "metadata": {
      "needs_background": "light"
     },
     "output_type": "display_data"
    }
   ],
   "source": [
    "n_beads = 100\n",
    "dist = 40 \n",
    "n = 4.\n",
    "\n",
    "pos_arr = np.zeros((n_beads, 2))\n",
    "\n",
    "\n",
    "a = fsolve(amp_constraint,.5, (dist, n_beads, n))\n",
    "print(a)\n",
    "\n",
    "for i in range(1, n_beads):\n",
    "    pos_arr[i, 0] = fsolve(next_pos_in_sine, pos_arr[i-1,0]+.5, (pos_arr[i-1], a, dist, n_beads, n))\n",
    "    pos_arr[i, 1] = a*np.sin(2.*np.pi*n*pos_arr[i,0]/dist)\n",
    "\n",
    "# print(pos_arr)\n",
    "\n",
    "plt.scatter(pos_arr[:,0], pos_arr[:,1])\n"
   ]
  },
  {
   "cell_type": "code",
   "execution_count": null,
   "metadata": {},
   "outputs": [],
   "source": []
  }
 ],
 "metadata": {
  "kernelspec": {
   "display_name": "Python 3.10.5 ('alens')",
   "language": "python",
   "name": "python3"
  },
  "language_info": {
   "codemirror_mode": {
    "name": "ipython",
    "version": 3
   },
   "file_extension": ".py",
   "mimetype": "text/x-python",
   "name": "python",
   "nbconvert_exporter": "python",
   "pygments_lexer": "ipython3",
   "version": "3.10.5"
  },
  "orig_nbformat": 4,
  "vscode": {
   "interpreter": {
    "hash": "2487905af43ff62529f5d0543a69a01967f928d061d595f1c1af836683bacb76"
   }
  }
 },
 "nbformat": 4,
 "nbformat_minor": 2
}
